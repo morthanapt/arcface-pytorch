{
 "cells": [
  {
   "cell_type": "code",
   "execution_count": 1,
   "metadata": {},
   "outputs": [],
   "source": [
    "import os\n",
    "from tqdm import tqdm\n",
    "\n",
    "import torch\n",
    "import torch.nn as nn\n",
    "\n",
    "from backbone import ResNet50\n",
    "from loss import ArcFaceLoss\n",
    "\n",
    "from utils.dataloaders import create_dataloader\n",
    "from utils.device import select_device"
   ]
  },
  {
   "cell_type": "code",
   "execution_count": 3,
   "metadata": {},
   "outputs": [],
   "source": [
    "class Args():\n",
    "    def __init__(self):\n",
    "        self.epochs = 3\n",
    "        self.learning_rate = 1e-3\n",
    "        self.data = 'data'\n",
    "        self.batch_size = 32\n",
    "        self. image_size = 224\n",
    "        self.num_workers = -1\n",
    "        self.embedding_size = 512\n",
    "        self.margin_loss = 0.3\n",
    "        self.scale_loss = 30\n",
    "        self.device = None\n",
    "        \n",
    "args = Args()"
   ]
  },
  {
   "cell_type": "code",
   "execution_count": 5,
   "metadata": {},
   "outputs": [],
   "source": [
    "args.num_workers = os.cpu_count() if args.num_workers == -1 else args.num_workers\n",
    "    \n",
    "args.image_size = (args.image_size, args.image_size) if isinstance(args.image_size, int) else args.image_size\n",
    "\n",
    "train_dir = os.path.join(args.data, 'train')\n",
    "train_dataloader, train_datasets = create_dataloader(train_dir, args.image_size, args.batch_size, args.num_workers)\n",
    "\n",
    "valid_dir = os.path.join(args.data, 'valid')\n",
    "valid_dataloader, _ = create_dataloader(valid_dir, args.image_size, args.batch_size, args.num_workers)\n",
    "\n",
    "device = select_device(args.device)\n",
    "\n",
    "num_classes = len(train_datasets.classes)"
   ]
  },
  {
   "cell_type": "code",
   "execution_count": 26,
   "metadata": {},
   "outputs": [],
   "source": [
    "feature_extraction = ResNet50(args.embedding_size).to(device)\n",
    "criterion = ArcFaceLoss(num_classes, args.embedding_size).to(device)\n",
    "\n",
    "feature_extraction = torch.compile(feature_extraction) # torch 2.0\n",
    "\n",
    "optimizer = torch.optim.AdamW(\n",
    "    params=[{'params': feature_extraction.parameters(), \n",
    "                'params': criterion.parameters()}],\n",
    "    lr=args.learning_rate\n",
    ")"
   ]
  },
  {
   "cell_type": "code",
   "execution_count": 13,
   "metadata": {},
   "outputs": [
    {
     "name": "stderr",
     "output_type": "stream",
     "text": [
      "/home/pc/miniconda3/envs/py38/lib/python3.8/site-packages/torch/_inductor/compile_fx.py:90: UserWarning: TensorFloat32 tensor cores for float32 matrix multiplication available but not enabled. Consider setting `torch.set_float32_matmul_precision('high')` for better performance.\n",
      "  warnings.warn(\n"
     ]
    }
   ],
   "source": [
    "X = torch.randn(32, 3, 224, 224).to(device)\n",
    "\n",
    "embeddings = feature_extraction(X)\n"
   ]
  },
  {
   "cell_type": "code",
   "execution_count": 15,
   "metadata": {},
   "outputs": [
    {
     "data": {
      "text/plain": [
       "torch.Size([32, 512])"
      ]
     },
     "execution_count": 15,
     "metadata": {},
     "output_type": "execute_result"
    }
   ],
   "source": [
    "embeddings.shape"
   ]
  },
  {
   "cell_type": "code",
   "execution_count": 38,
   "metadata": {},
   "outputs": [],
   "source": [
    "y = torch.ones(32, dtype=torch.int64)"
   ]
  },
  {
   "cell_type": "code",
   "execution_count": 39,
   "metadata": {},
   "outputs": [],
   "source": [
    "y = y.to(device)"
   ]
  },
  {
   "cell_type": "code",
   "execution_count": 40,
   "metadata": {},
   "outputs": [
    {
     "data": {
      "text/plain": [
       "tensor([1, 1, 1, 1, 1, 1, 1, 1, 1, 1, 1, 1, 1, 1, 1, 1, 1, 1, 1, 1, 1, 1, 1, 1,\n",
       "        1, 1, 1, 1, 1, 1, 1, 1], device='cuda:0')"
      ]
     },
     "execution_count": 40,
     "metadata": {},
     "output_type": "execute_result"
    }
   ],
   "source": [
    "y"
   ]
  },
  {
   "cell_type": "code",
   "execution_count": 41,
   "metadata": {},
   "outputs": [],
   "source": [
    "logits, loss = criterion(embeddings, y)"
   ]
  },
  {
   "cell_type": "code",
   "execution_count": 3,
   "metadata": {},
   "outputs": [
    {
     "ename": "RuntimeError",
     "evalue": "mean(): could not infer output dtype. Optional dtype must be either a floating point or complex dtype. Got: Bool",
     "output_type": "error",
     "traceback": [
      "\u001b[0;31m---------------------------------------------------------------------------\u001b[0m",
      "\u001b[0;31mRuntimeError\u001b[0m                              Traceback (most recent call last)",
      "Cell \u001b[0;32mIn[3], line 5\u001b[0m\n\u001b[1;32m      1\u001b[0m \u001b[39mimport\u001b[39;00m \u001b[39mtorch\u001b[39;00m\n\u001b[1;32m      3\u001b[0m x \u001b[39m=\u001b[39m torch\u001b[39m.\u001b[39mtensor([\u001b[39mTrue\u001b[39;00m, \u001b[39mFalse\u001b[39;00m, \u001b[39mTrue\u001b[39;00m])\n\u001b[0;32m----> 5\u001b[0m x\u001b[39m.\u001b[39;49mmean(dtype\u001b[39m=\u001b[39;49mtorch\u001b[39m.\u001b[39;49mbool)\n",
      "\u001b[0;31mRuntimeError\u001b[0m: mean(): could not infer output dtype. Optional dtype must be either a floating point or complex dtype. Got: Bool"
     ]
    }
   ],
   "source": [
    "import torch\n",
    "\n",
    "x = torch.tensor([True, False, True])\n",
    "\n",
    "x.mean(dtype=torch.bool)"
   ]
  },
  {
   "cell_type": "code",
   "execution_count": null,
   "metadata": {},
   "outputs": [],
   "source": []
  }
 ],
 "metadata": {
  "kernelspec": {
   "display_name": "py38",
   "language": "python",
   "name": "python3"
  },
  "language_info": {
   "codemirror_mode": {
    "name": "ipython",
    "version": 3
   },
   "file_extension": ".py",
   "mimetype": "text/x-python",
   "name": "python",
   "nbconvert_exporter": "python",
   "pygments_lexer": "ipython3",
   "version": "3.8.16"
  },
  "orig_nbformat": 4
 },
 "nbformat": 4,
 "nbformat_minor": 2
}
